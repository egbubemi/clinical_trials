{
  "cells": [
    {
      "cell_type": "markdown",
      "metadata": {
        "id": "view-in-github",
        "colab_type": "text"
      },
      "source": [
        "<a href=\"https://colab.research.google.com/github/egbubemi/clinical_trials/blob/main/Analysis_clinicaltrial_2021_dataset.ipynb\" target=\"_parent\"><img src=\"https://colab.research.google.com/assets/colab-badge.svg\" alt=\"Open In Colab\"/></a>"
      ]
    },
    {
      "cell_type": "code",
      "source": [
        "year = \"2021\"\n",
        "\n",
        "fileroot = \"clinicaltrial_\" + year"
      ],
      "metadata": {
        "application/vnd.databricks.v1+cell": {
          "showTitle": false,
          "cellMetadata": {
            "rowLimit": 10000,
            "byteLimit": 2048000
          },
          "nuid": "25abab4f-7c06-4cd3-9f2e-9d6b3c555414",
          "inputWidgets": {},
          "title": ""
        },
        "id": "lK9RV7bHNGuO"
      },
      "outputs": [],
      "execution_count": null
    },
    {
      "cell_type": "code",
      "source": [
        "import os\n",
        "os.environ ['fileroot'] = fileroot"
      ],
      "metadata": {
        "application/vnd.databricks.v1+cell": {
          "showTitle": false,
          "cellMetadata": {
            "rowLimit": 10000,
            "byteLimit": 2048000
          },
          "nuid": "ea135d6f-c5e9-4d7b-81f5-5432d9a4144d",
          "inputWidgets": {},
          "title": ""
        },
        "id": "X_2D4dE2NGuS"
      },
      "outputs": [],
      "execution_count": null
    },
    {
      "cell_type": "code",
      "source": [
        "clinicaltrial_df = spark.read.options(delimiter =\"|\").csv(\"/FileStore/tables/\" + fileroot +  \".csv/\", header= \"True\", inferSchema=True)\n",
        "clinicaltrial_df.show(5, truncate = False)"
      ],
      "metadata": {
        "application/vnd.databricks.v1+cell": {
          "showTitle": false,
          "cellMetadata": {
            "rowLimit": 10000,
            "byteLimit": 2048000
          },
          "nuid": "d65c781c-e291-4786-80bb-b9dc61dad698",
          "inputWidgets": {},
          "title": ""
        },
        "id": "b-G-sCnNNGuT",
        "outputId": "77e792b5-b42a-42d0-cfef-f1cf42791fc8"
      },
      "outputs": [
        {
          "output_type": "stream",
          "name": "stdout",
          "text": [
            "+-----------+--------------------------------------+----------------------+--------+----------+--------------------------------+----------+-------------------------------------------------+-------------+\n|Id         |Sponsor                               |Status                |Start   |Completion|Type                            |Submission|Conditions                                       |Interventions|\n+-----------+--------------------------------------+----------------------+--------+----------+--------------------------------+----------+-------------------------------------------------+-------------+\n|NCT02758028|The University of Hong Kong           |Recruiting            |Aug 2005|Nov 2021  |Interventional                  |Apr 2016  |null                                             |null         |\n|NCT02751957|Duke University                       |Completed             |Jul 2016|Jul 2020  |Interventional                  |Apr 2016  |Autistic Disorder,Autism Spectrum Disorder       |null         |\n|NCT02758483|Universidade Federal do Rio de Janeiro|Completed             |Mar 2017|Jan 2018  |Interventional                  |Apr 2016  |Diabetes Mellitus                                |null         |\n|NCT02759848|Istanbul Medeniyet University         |Completed             |Jan 2012|Dec 2014  |Observational                   |May 2016  |Tuberculosis,Lung Diseases,Pulmonary Disease     |null         |\n|NCT02758860|University of Roma La Sapienza        |Active, not recruiting|Jun 2016|Sep 2020  |Observational [Patient Registry]|Apr 2016  |Diverticular Diseases,Diverticulum,Diverticulosis|null         |\n+-----------+--------------------------------------+----------------------+--------+----------+--------------------------------+----------+-------------------------------------------------+-------------+\nonly showing top 5 rows\n\n"
          ]
        }
      ],
      "execution_count": null
    },
    {
      "cell_type": "code",
      "source": [
        "clinicaltrial_df.toPandas()"
      ],
      "metadata": {
        "application/vnd.databricks.v1+cell": {
          "showTitle": false,
          "cellMetadata": {
            "rowLimit": 10000,
            "byteLimit": 2048000
          },
          "nuid": "e81aadf0-c816-4cf7-9c37-1a0093c4ec8a",
          "inputWidgets": {},
          "title": ""
        },
        "id": "OlZawR60NGuV",
        "outputId": "775544a2-1ca0-4196-f917-efed4f200324"
      },
      "outputs": [
        {
          "output_type": "display_data",
          "metadata": {
            "application/vnd.databricks.v1+output": {
              "datasetInfos": [],
              "data": "<div>\n<style scoped>\n    .dataframe tbody tr th:only-of-type {\n        vertical-align: middle;\n    }\n\n    .dataframe tbody tr th {\n        vertical-align: top;\n    }\n\n    .dataframe thead th {\n        text-align: right;\n    }\n</style>\n<table border=\"1\" class=\"dataframe\">\n  <thead>\n    <tr style=\"text-align: right;\">\n      <th></th>\n      <th>Id</th>\n      <th>Sponsor</th>\n      <th>Status</th>\n      <th>Start</th>\n      <th>Completion</th>\n      <th>Type</th>\n      <th>Submission</th>\n      <th>Conditions</th>\n      <th>Interventions</th>\n    </tr>\n  </thead>\n  <tbody>\n    <tr>\n      <th>0</th>\n      <td>NCT02758028</td>\n      <td>The University of Hong Kong</td>\n      <td>Recruiting</td>\n      <td>Aug 2005</td>\n      <td>Nov 2021</td>\n      <td>Interventional</td>\n      <td>Apr 2016</td>\n      <td>None</td>\n      <td>None</td>\n    </tr>\n    <tr>\n      <th>1</th>\n      <td>NCT02751957</td>\n      <td>Duke University</td>\n      <td>Completed</td>\n      <td>Jul 2016</td>\n      <td>Jul 2020</td>\n      <td>Interventional</td>\n      <td>Apr 2016</td>\n      <td>Autistic Disorder,Autism Spectrum Disorder</td>\n      <td>None</td>\n    </tr>\n    <tr>\n      <th>2</th>\n      <td>NCT02758483</td>\n      <td>Universidade Federal do Rio de Janeiro</td>\n      <td>Completed</td>\n      <td>Mar 2017</td>\n      <td>Jan 2018</td>\n      <td>Interventional</td>\n      <td>Apr 2016</td>\n      <td>Diabetes Mellitus</td>\n      <td>None</td>\n    </tr>\n    <tr>\n      <th>3</th>\n      <td>NCT02759848</td>\n      <td>Istanbul Medeniyet University</td>\n      <td>Completed</td>\n      <td>Jan 2012</td>\n      <td>Dec 2014</td>\n      <td>Observational</td>\n      <td>May 2016</td>\n      <td>Tuberculosis,Lung Diseases,Pulmonary Disease</td>\n      <td>None</td>\n    </tr>\n    <tr>\n      <th>4</th>\n      <td>NCT02758860</td>\n      <td>University of Roma La Sapienza</td>\n      <td>Active, not recruiting</td>\n      <td>Jun 2016</td>\n      <td>Sep 2020</td>\n      <td>Observational [Patient Registry]</td>\n      <td>Apr 2016</td>\n      <td>Diverticular Diseases,Diverticulum,Diverticulosis</td>\n      <td>None</td>\n    </tr>\n    <tr>\n      <th>...</th>\n      <td>...</td>\n      <td>...</td>\n      <td>...</td>\n      <td>...</td>\n      <td>...</td>\n      <td>...</td>\n      <td>...</td>\n      <td>...</td>\n      <td>...</td>\n    </tr>\n    <tr>\n      <th>387256</th>\n      <td>NCT04576611</td>\n      <td>University of the Balearic Islands</td>\n      <td>Completed</td>\n      <td>Mar 2019</td>\n      <td>Feb 2020</td>\n      <td>Interventional</td>\n      <td>Jul 2020</td>\n      <td>Back Pain,Low Back Pain</td>\n      <td>None</td>\n    </tr>\n    <tr>\n      <th>387257</th>\n      <td>NCT04571138</td>\n      <td>Seattle Children's Hospital</td>\n      <td>Recruiting</td>\n      <td>Sep 2020</td>\n      <td>Feb 2038</td>\n      <td>Interventional</td>\n      <td>Sep 2020</td>\n      <td>Lymphoma,Leukemia</td>\n      <td>None</td>\n    </tr>\n    <tr>\n      <th>387258</th>\n      <td>NCT04578847</td>\n      <td>National Research Center for Hematology, Russia</td>\n      <td>Active, not recruiting</td>\n      <td>Jan 2020</td>\n      <td>Jan 2025</td>\n      <td>Interventional</td>\n      <td>Mar 2020</td>\n      <td>Leukemia</td>\n      <td>Imatinib Mesylate,Dasatinib</td>\n    </tr>\n    <tr>\n      <th>387259</th>\n      <td>NCT04577300</td>\n      <td>Stanford University</td>\n      <td>Recruiting</td>\n      <td>May 2021</td>\n      <td>Dec 2023</td>\n      <td>Interventional</td>\n      <td>Sep 2020</td>\n      <td>Glaucoma</td>\n      <td>None</td>\n    </tr>\n    <tr>\n      <th>387260</th>\n      <td>NCT04576182</td>\n      <td>University of Haifa</td>\n      <td>Recruiting</td>\n      <td>Nov 2020</td>\n      <td>Dec 2025</td>\n      <td>Interventional</td>\n      <td>Sep 2020</td>\n      <td>Depressive Disorder</td>\n      <td>None</td>\n    </tr>\n  </tbody>\n</table>\n<p>387261 rows × 9 columns</p>\n</div>",
              "textData": null,
              "removedWidgets": [],
              "addedWidgets": {},
              "metadata": {},
              "type": "htmlSandbox",
              "arguments": {}
            }
          },
          "data": {
            "text/html": [
              "<div>\n",
              "<style scoped>\n",
              "    .dataframe tbody tr th:only-of-type {\n",
              "        vertical-align: middle;\n",
              "    }\n",
              "\n",
              "    .dataframe tbody tr th {\n",
              "        vertical-align: top;\n",
              "    }\n",
              "\n",
              "    .dataframe thead th {\n",
              "        text-align: right;\n",
              "    }\n",
              "</style>\n",
              "<table border=\"1\" class=\"dataframe\">\n",
              "  <thead>\n",
              "    <tr style=\"text-align: right;\">\n",
              "      <th></th>\n",
              "      <th>Id</th>\n",
              "      <th>Sponsor</th>\n",
              "      <th>Status</th>\n",
              "      <th>Start</th>\n",
              "      <th>Completion</th>\n",
              "      <th>Type</th>\n",
              "      <th>Submission</th>\n",
              "      <th>Conditions</th>\n",
              "      <th>Interventions</th>\n",
              "    </tr>\n",
              "  </thead>\n",
              "  <tbody>\n",
              "    <tr>\n",
              "      <th>0</th>\n",
              "      <td>NCT02758028</td>\n",
              "      <td>The University of Hong Kong</td>\n",
              "      <td>Recruiting</td>\n",
              "      <td>Aug 2005</td>\n",
              "      <td>Nov 2021</td>\n",
              "      <td>Interventional</td>\n",
              "      <td>Apr 2016</td>\n",
              "      <td>None</td>\n",
              "      <td>None</td>\n",
              "    </tr>\n",
              "    <tr>\n",
              "      <th>1</th>\n",
              "      <td>NCT02751957</td>\n",
              "      <td>Duke University</td>\n",
              "      <td>Completed</td>\n",
              "      <td>Jul 2016</td>\n",
              "      <td>Jul 2020</td>\n",
              "      <td>Interventional</td>\n",
              "      <td>Apr 2016</td>\n",
              "      <td>Autistic Disorder,Autism Spectrum Disorder</td>\n",
              "      <td>None</td>\n",
              "    </tr>\n",
              "    <tr>\n",
              "      <th>2</th>\n",
              "      <td>NCT02758483</td>\n",
              "      <td>Universidade Federal do Rio de Janeiro</td>\n",
              "      <td>Completed</td>\n",
              "      <td>Mar 2017</td>\n",
              "      <td>Jan 2018</td>\n",
              "      <td>Interventional</td>\n",
              "      <td>Apr 2016</td>\n",
              "      <td>Diabetes Mellitus</td>\n",
              "      <td>None</td>\n",
              "    </tr>\n",
              "    <tr>\n",
              "      <th>3</th>\n",
              "      <td>NCT02759848</td>\n",
              "      <td>Istanbul Medeniyet University</td>\n",
              "      <td>Completed</td>\n",
              "      <td>Jan 2012</td>\n",
              "      <td>Dec 2014</td>\n",
              "      <td>Observational</td>\n",
              "      <td>May 2016</td>\n",
              "      <td>Tuberculosis,Lung Diseases,Pulmonary Disease</td>\n",
              "      <td>None</td>\n",
              "    </tr>\n",
              "    <tr>\n",
              "      <th>4</th>\n",
              "      <td>NCT02758860</td>\n",
              "      <td>University of Roma La Sapienza</td>\n",
              "      <td>Active, not recruiting</td>\n",
              "      <td>Jun 2016</td>\n",
              "      <td>Sep 2020</td>\n",
              "      <td>Observational [Patient Registry]</td>\n",
              "      <td>Apr 2016</td>\n",
              "      <td>Diverticular Diseases,Diverticulum,Diverticulosis</td>\n",
              "      <td>None</td>\n",
              "    </tr>\n",
              "    <tr>\n",
              "      <th>...</th>\n",
              "      <td>...</td>\n",
              "      <td>...</td>\n",
              "      <td>...</td>\n",
              "      <td>...</td>\n",
              "      <td>...</td>\n",
              "      <td>...</td>\n",
              "      <td>...</td>\n",
              "      <td>...</td>\n",
              "      <td>...</td>\n",
              "    </tr>\n",
              "    <tr>\n",
              "      <th>387256</th>\n",
              "      <td>NCT04576611</td>\n",
              "      <td>University of the Balearic Islands</td>\n",
              "      <td>Completed</td>\n",
              "      <td>Mar 2019</td>\n",
              "      <td>Feb 2020</td>\n",
              "      <td>Interventional</td>\n",
              "      <td>Jul 2020</td>\n",
              "      <td>Back Pain,Low Back Pain</td>\n",
              "      <td>None</td>\n",
              "    </tr>\n",
              "    <tr>\n",
              "      <th>387257</th>\n",
              "      <td>NCT04571138</td>\n",
              "      <td>Seattle Children's Hospital</td>\n",
              "      <td>Recruiting</td>\n",
              "      <td>Sep 2020</td>\n",
              "      <td>Feb 2038</td>\n",
              "      <td>Interventional</td>\n",
              "      <td>Sep 2020</td>\n",
              "      <td>Lymphoma,Leukemia</td>\n",
              "      <td>None</td>\n",
              "    </tr>\n",
              "    <tr>\n",
              "      <th>387258</th>\n",
              "      <td>NCT04578847</td>\n",
              "      <td>National Research Center for Hematology, Russia</td>\n",
              "      <td>Active, not recruiting</td>\n",
              "      <td>Jan 2020</td>\n",
              "      <td>Jan 2025</td>\n",
              "      <td>Interventional</td>\n",
              "      <td>Mar 2020</td>\n",
              "      <td>Leukemia</td>\n",
              "      <td>Imatinib Mesylate,Dasatinib</td>\n",
              "    </tr>\n",
              "    <tr>\n",
              "      <th>387259</th>\n",
              "      <td>NCT04577300</td>\n",
              "      <td>Stanford University</td>\n",
              "      <td>Recruiting</td>\n",
              "      <td>May 2021</td>\n",
              "      <td>Dec 2023</td>\n",
              "      <td>Interventional</td>\n",
              "      <td>Sep 2020</td>\n",
              "      <td>Glaucoma</td>\n",
              "      <td>None</td>\n",
              "    </tr>\n",
              "    <tr>\n",
              "      <th>387260</th>\n",
              "      <td>NCT04576182</td>\n",
              "      <td>University of Haifa</td>\n",
              "      <td>Recruiting</td>\n",
              "      <td>Nov 2020</td>\n",
              "      <td>Dec 2025</td>\n",
              "      <td>Interventional</td>\n",
              "      <td>Sep 2020</td>\n",
              "      <td>Depressive Disorder</td>\n",
              "      <td>None</td>\n",
              "    </tr>\n",
              "  </tbody>\n",
              "</table>\n",
              "<p>387261 rows × 9 columns</p>\n",
              "</div>"
            ]
          }
        }
      ],
      "execution_count": null
    },
    {
      "cell_type": "markdown",
      "source": [
        "<h5/> Question 1 <h/5>"
      ],
      "metadata": {
        "application/vnd.databricks.v1+cell": {
          "showTitle": false,
          "cellMetadata": {
            "rowLimit": 10000,
            "byteLimit": 2048000
          },
          "nuid": "eb4b7d96-a0e6-4fe3-b3ad-10b7e5424272",
          "inputWidgets": {},
          "title": ""
        },
        "id": "az-5zex_NGuW"
      }
    },
    {
      "cell_type": "code",
      "source": [
        "\n",
        "clinicaltrial_df.distinct().count()"
      ],
      "metadata": {
        "application/vnd.databricks.v1+cell": {
          "showTitle": false,
          "cellMetadata": {
            "rowLimit": 10000,
            "byteLimit": 2048000
          },
          "nuid": "9a10f550-14d1-4cd2-91e8-bf1f35937dc9",
          "inputWidgets": {},
          "title": ""
        },
        "id": "cez8FcdANGuY",
        "outputId": "09bf550c-0443-4ef6-acdf-f3c227cb55af"
      },
      "outputs": [
        {
          "output_type": "stream",
          "name": "stdout",
          "text": [
            "Out[6]: 387261"
          ]
        }
      ],
      "execution_count": null
    },
    {
      "cell_type": "markdown",
      "source": [
        "<h5>  Question 2 \n",
        "Types of Studies and Frequencies\n",
        "<h5/>"
      ],
      "metadata": {
        "application/vnd.databricks.v1+cell": {
          "showTitle": false,
          "cellMetadata": {
            "rowLimit": 10000,
            "byteLimit": 2048000
          },
          "nuid": "19da2d45-b3c8-4f17-8df2-8f1eb8c372d3",
          "inputWidgets": {},
          "title": ""
        },
        "id": "dDCB_xJBNGuZ"
      }
    },
    {
      "cell_type": "code",
      "source": [
        "from pyspark.sql.functions import split, explode, count, desc\n",
        "\n",
        "# this shows the frequency count of each type then order by descending frequency\n",
        "studies_type = clinicaltrial_df.groupBy(\"Type\").count().orderBy(desc(\"count\"))\n",
        "\n",
        "# display the results\n",
        "studies_type.toPandas().head(5)\n"
      ],
      "metadata": {
        "application/vnd.databricks.v1+cell": {
          "showTitle": false,
          "cellMetadata": {
            "rowLimit": 10000,
            "byteLimit": 2048000
          },
          "nuid": "88884854-dbf6-43f1-bf7f-b9af780c7873",
          "inputWidgets": {},
          "title": ""
        },
        "id": "RwI1tSU0NGua",
        "outputId": "f0455367-4bad-4c2c-8888-fd75cda384d3"
      },
      "outputs": [
        {
          "output_type": "display_data",
          "metadata": {
            "application/vnd.databricks.v1+output": {
              "datasetInfos": [],
              "data": "<div>\n<style scoped>\n    .dataframe tbody tr th:only-of-type {\n        vertical-align: middle;\n    }\n\n    .dataframe tbody tr th {\n        vertical-align: top;\n    }\n\n    .dataframe thead th {\n        text-align: right;\n    }\n</style>\n<table border=\"1\" class=\"dataframe\">\n  <thead>\n    <tr style=\"text-align: right;\">\n      <th></th>\n      <th>Type</th>\n      <th>count</th>\n    </tr>\n  </thead>\n  <tbody>\n    <tr>\n      <th>0</th>\n      <td>Interventional</td>\n      <td>301472</td>\n    </tr>\n    <tr>\n      <th>1</th>\n      <td>Observational</td>\n      <td>77540</td>\n    </tr>\n    <tr>\n      <th>2</th>\n      <td>Observational [Patient Registry]</td>\n      <td>8180</td>\n    </tr>\n    <tr>\n      <th>3</th>\n      <td>Expanded Access</td>\n      <td>69</td>\n    </tr>\n  </tbody>\n</table>\n</div>",
              "textData": null,
              "removedWidgets": [],
              "addedWidgets": {},
              "metadata": {},
              "type": "htmlSandbox",
              "arguments": {}
            }
          },
          "data": {
            "text/html": [
              "<div>\n",
              "<style scoped>\n",
              "    .dataframe tbody tr th:only-of-type {\n",
              "        vertical-align: middle;\n",
              "    }\n",
              "\n",
              "    .dataframe tbody tr th {\n",
              "        vertical-align: top;\n",
              "    }\n",
              "\n",
              "    .dataframe thead th {\n",
              "        text-align: right;\n",
              "    }\n",
              "</style>\n",
              "<table border=\"1\" class=\"dataframe\">\n",
              "  <thead>\n",
              "    <tr style=\"text-align: right;\">\n",
              "      <th></th>\n",
              "      <th>Type</th>\n",
              "      <th>count</th>\n",
              "    </tr>\n",
              "  </thead>\n",
              "  <tbody>\n",
              "    <tr>\n",
              "      <th>0</th>\n",
              "      <td>Interventional</td>\n",
              "      <td>301472</td>\n",
              "    </tr>\n",
              "    <tr>\n",
              "      <th>1</th>\n",
              "      <td>Observational</td>\n",
              "      <td>77540</td>\n",
              "    </tr>\n",
              "    <tr>\n",
              "      <th>2</th>\n",
              "      <td>Observational [Patient Registry]</td>\n",
              "      <td>8180</td>\n",
              "    </tr>\n",
              "    <tr>\n",
              "      <th>3</th>\n",
              "      <td>Expanded Access</td>\n",
              "      <td>69</td>\n",
              "    </tr>\n",
              "  </tbody>\n",
              "</table>\n",
              "</div>"
            ]
          }
        }
      ],
      "execution_count": null
    },
    {
      "cell_type": "code",
      "source": [
        "studies_type.show()"
      ],
      "metadata": {
        "application/vnd.databricks.v1+cell": {
          "showTitle": false,
          "cellMetadata": {
            "rowLimit": 10000,
            "byteLimit": 2048000
          },
          "nuid": "5ebe7e2e-7861-42e7-96d9-d9222ced1db9",
          "inputWidgets": {},
          "title": ""
        },
        "id": "fgQcCAeTNGua",
        "outputId": "6c90ee65-7af4-433d-a6d2-344ac06dfb36"
      },
      "outputs": [
        {
          "output_type": "stream",
          "name": "stdout",
          "text": [
            "+--------------------+------+\n|                Type| count|\n+--------------------+------+\n|      Interventional|301472|\n|       Observational| 77540|\n|Observational [Pa...|  8180|\n|     Expanded Access|    69|\n+--------------------+------+\n\n"
          ]
        }
      ],
      "execution_count": null
    },
    {
      "cell_type": "markdown",
      "source": [
        "<h5> Question 3 \n",
        "\n",
        "Top 5 Conditions and Frequencies <h5/>"
      ],
      "metadata": {
        "application/vnd.databricks.v1+cell": {
          "showTitle": false,
          "cellMetadata": {
            "rowLimit": 10000,
            "byteLimit": 2048000
          },
          "nuid": "b101e121-4129-450c-a491-50229798eaf2",
          "inputWidgets": {},
          "title": ""
        },
        "id": "PWFuuYnMNGub"
      }
    },
    {
      "cell_type": "code",
      "source": [
        "from pyspark.sql.functions import split, explode, count, desc\n",
        "\n",
        "# split conditions into an array and explode into separate rows\n",
        "conditions_frequency = clinicaltrial_df.where(clinicaltrial_df['Conditions'].isNotNull()) \\\n",
        "                            .select(explode(split('Conditions', ',')).alias('condition'))\n",
        "\n",
        "# count the frequency of each distinct condition and order by descending frequency\n",
        "total_conditions_frequency = conditions_frequency.groupBy('condition').count().orderBy(desc('count'))\n",
        "\n",
        "# show the top 5 conditions\n",
        "total_conditions_frequency.toPandas().head(5)\n",
        "\n"
      ],
      "metadata": {
        "application/vnd.databricks.v1+cell": {
          "showTitle": false,
          "cellMetadata": {
            "rowLimit": 10000,
            "byteLimit": 2048000
          },
          "nuid": "4f126099-6ec1-484b-a82c-dbccceb991ab",
          "inputWidgets": {},
          "title": ""
        },
        "id": "evcnp__ZNGuc",
        "outputId": "0f057ff8-4444-42f4-f1bb-ceecce502027"
      },
      "outputs": [
        {
          "output_type": "display_data",
          "metadata": {
            "application/vnd.databricks.v1+output": {
              "datasetInfos": [],
              "data": "<div>\n<style scoped>\n    .dataframe tbody tr th:only-of-type {\n        vertical-align: middle;\n    }\n\n    .dataframe tbody tr th {\n        vertical-align: top;\n    }\n\n    .dataframe thead th {\n        text-align: right;\n    }\n</style>\n<table border=\"1\" class=\"dataframe\">\n  <thead>\n    <tr style=\"text-align: right;\">\n      <th></th>\n      <th>condition</th>\n      <th>count</th>\n    </tr>\n  </thead>\n  <tbody>\n    <tr>\n      <th>0</th>\n      <td>Carcinoma</td>\n      <td>13389</td>\n    </tr>\n    <tr>\n      <th>1</th>\n      <td>Diabetes Mellitus</td>\n      <td>11080</td>\n    </tr>\n    <tr>\n      <th>2</th>\n      <td>Neoplasms</td>\n      <td>9371</td>\n    </tr>\n    <tr>\n      <th>3</th>\n      <td>Breast Neoplasms</td>\n      <td>8640</td>\n    </tr>\n    <tr>\n      <th>4</th>\n      <td>Syndrome</td>\n      <td>8032</td>\n    </tr>\n  </tbody>\n</table>\n</div>",
              "textData": null,
              "removedWidgets": [],
              "addedWidgets": {},
              "metadata": {},
              "type": "htmlSandbox",
              "arguments": {}
            }
          },
          "data": {
            "text/html": [
              "<div>\n",
              "<style scoped>\n",
              "    .dataframe tbody tr th:only-of-type {\n",
              "        vertical-align: middle;\n",
              "    }\n",
              "\n",
              "    .dataframe tbody tr th {\n",
              "        vertical-align: top;\n",
              "    }\n",
              "\n",
              "    .dataframe thead th {\n",
              "        text-align: right;\n",
              "    }\n",
              "</style>\n",
              "<table border=\"1\" class=\"dataframe\">\n",
              "  <thead>\n",
              "    <tr style=\"text-align: right;\">\n",
              "      <th></th>\n",
              "      <th>condition</th>\n",
              "      <th>count</th>\n",
              "    </tr>\n",
              "  </thead>\n",
              "  <tbody>\n",
              "    <tr>\n",
              "      <th>0</th>\n",
              "      <td>Carcinoma</td>\n",
              "      <td>13389</td>\n",
              "    </tr>\n",
              "    <tr>\n",
              "      <th>1</th>\n",
              "      <td>Diabetes Mellitus</td>\n",
              "      <td>11080</td>\n",
              "    </tr>\n",
              "    <tr>\n",
              "      <th>2</th>\n",
              "      <td>Neoplasms</td>\n",
              "      <td>9371</td>\n",
              "    </tr>\n",
              "    <tr>\n",
              "      <th>3</th>\n",
              "      <td>Breast Neoplasms</td>\n",
              "      <td>8640</td>\n",
              "    </tr>\n",
              "    <tr>\n",
              "      <th>4</th>\n",
              "      <td>Syndrome</td>\n",
              "      <td>8032</td>\n",
              "    </tr>\n",
              "  </tbody>\n",
              "</table>\n",
              "</div>"
            ]
          }
        }
      ],
      "execution_count": null
    },
    {
      "cell_type": "code",
      "source": [
        "total_conditions_frequency.show(5)\n"
      ],
      "metadata": {
        "application/vnd.databricks.v1+cell": {
          "showTitle": false,
          "cellMetadata": {
            "rowLimit": 10000,
            "byteLimit": 2048000
          },
          "nuid": "6555e462-cbef-439a-be71-632c4c71b04c",
          "inputWidgets": {},
          "title": ""
        },
        "id": "IGHwyjFyNGud",
        "outputId": "034d93bc-a004-4947-f663-c773adef772a"
      },
      "outputs": [
        {
          "output_type": "stream",
          "name": "stdout",
          "text": [
            "+-----------------+-----+\n|        condition|count|\n+-----------------+-----+\n|        Carcinoma|13389|\n|Diabetes Mellitus|11080|\n|        Neoplasms| 9371|\n| Breast Neoplasms| 8640|\n|         Syndrome| 8032|\n+-----------------+-----+\nonly showing top 5 rows\n\n"
          ]
        }
      ],
      "execution_count": null
    },
    {
      "cell_type": "markdown",
      "source": [
        "<h5> Question 4: \n",
        "    \n",
        "    Top 10 Sponsors That are not Pharmaceutical"
      ],
      "metadata": {
        "application/vnd.databricks.v1+cell": {
          "showTitle": false,
          "cellMetadata": {
            "rowLimit": 10000,
            "byteLimit": 2048000
          },
          "nuid": "1751fcef-2ead-4353-bda0-fe4f7e08c2c1",
          "inputWidgets": {},
          "title": ""
        },
        "id": "0DHuJuk9NGue"
      }
    },
    {
      "cell_type": "code",
      "source": [
        "from pyspark.sql.types import *\n",
        "Pharma_df = spark.read \\\n",
        "    .option(\"header\", True) \\\n",
        "    .option(\"inferSchema\", True) \\\n",
        "    .option(\"delimiter\", \",\") \\\n",
        "    .csv(\"/FileStore/tables/pharma.csv\")"
      ],
      "metadata": {
        "application/vnd.databricks.v1+cell": {
          "showTitle": false,
          "cellMetadata": {
            "rowLimit": 10000,
            "byteLimit": 2048000
          },
          "nuid": "108f08bb-57de-479d-9f59-31b13befc896",
          "inputWidgets": {},
          "title": ""
        },
        "id": "xBk0If10NGue"
      },
      "outputs": [],
      "execution_count": null
    },
    {
      "cell_type": "code",
      "source": [
        "Pharma_df.toPandas().head(5)"
      ],
      "metadata": {
        "application/vnd.databricks.v1+cell": {
          "showTitle": false,
          "cellMetadata": {
            "rowLimit": 10000,
            "byteLimit": 2048000
          },
          "nuid": "044ed873-b665-4f80-bdcb-83b23f6017f1",
          "inputWidgets": {},
          "title": ""
        },
        "id": "aWllaHfdNGuf",
        "outputId": "bc485840-0171-4ce4-cf10-0c091b2ddb82"
      },
      "outputs": [
        {
          "output_type": "display_data",
          "metadata": {
            "application/vnd.databricks.v1+output": {
              "datasetInfos": [],
              "data": "<div>\n<style scoped>\n    .dataframe tbody tr th:only-of-type {\n        vertical-align: middle;\n    }\n\n    .dataframe tbody tr th {\n        vertical-align: top;\n    }\n\n    .dataframe thead th {\n        text-align: right;\n    }\n</style>\n<table border=\"1\" class=\"dataframe\">\n  <thead>\n    <tr style=\"text-align: right;\">\n      <th></th>\n      <th>Company</th>\n      <th>Parent_Company</th>\n      <th>Penalty_Amount</th>\n      <th>Subtraction_From_Penalty</th>\n      <th>Penalty_Amount_Adjusted_For_Eliminating_Multiple_Counting</th>\n      <th>Penalty_Year</th>\n      <th>Penalty_Date</th>\n      <th>Offense_Group</th>\n      <th>Primary_Offense</th>\n      <th>Secondary_Offense</th>\n      <th>...</th>\n      <th>NAICS_Code</th>\n      <th>NAICS_Translation</th>\n      <th>HQ_Country_of_Parent</th>\n      <th>HQ_State_of_Parent</th>\n      <th>Ownership_Structure</th>\n      <th>Parent_Company_Stock_Ticker</th>\n      <th>Major_Industry_of_Parent</th>\n      <th>Specific_Industry_of_Parent</th>\n      <th>Info_Source</th>\n      <th>Notes</th>\n    </tr>\n  </thead>\n  <tbody>\n    <tr>\n      <th>0</th>\n      <td>Abbott Laboratories</td>\n      <td>Abbott Laboratories</td>\n      <td>$5,475,000</td>\n      <td>$0</td>\n      <td>$5,475,000</td>\n      <td>2013</td>\n      <td>20131227</td>\n      <td>government-contracting-related offenses</td>\n      <td>False Claims Act and related</td>\n      <td>kickbacks and bribery</td>\n      <td>...</td>\n      <td>NaN</td>\n      <td>None</td>\n      <td>USA</td>\n      <td>Illinois</td>\n      <td>publicly traded</td>\n      <td>ABT</td>\n      <td>pharmaceuticals</td>\n      <td>pharmaceuticals</td>\n      <td>https://www.justice.gov/opa/pr/abbott-laborato...</td>\n      <td>None</td>\n    </tr>\n    <tr>\n      <th>1</th>\n      <td>Abbott Laboratories Inc.</td>\n      <td>AbbVie</td>\n      <td>$1,500,000,000</td>\n      <td>$0</td>\n      <td>$1,500,000,000</td>\n      <td>2012</td>\n      <td>20120507</td>\n      <td>healthcare-related offenses</td>\n      <td>off-label or unapproved promotion of medical p...</td>\n      <td>None</td>\n      <td>...</td>\n      <td>NaN</td>\n      <td>None</td>\n      <td>USA</td>\n      <td>Illinois</td>\n      <td>publicly traded</td>\n      <td>ABBV</td>\n      <td>pharmaceuticals</td>\n      <td>pharmaceuticals</td>\n      <td>http://www.justice.gov/opa/pr/abbott-labs-pay-...</td>\n      <td>None</td>\n    </tr>\n    <tr>\n      <th>2</th>\n      <td>Abbott Laboratories Inc.</td>\n      <td>AbbVie</td>\n      <td>$126,500,000</td>\n      <td>$0</td>\n      <td>$126,500,000</td>\n      <td>2010</td>\n      <td>20101207</td>\n      <td>government-contracting-related offenses</td>\n      <td>False Claims Act and related</td>\n      <td>None</td>\n      <td>...</td>\n      <td>NaN</td>\n      <td>None</td>\n      <td>USA</td>\n      <td>Illinois</td>\n      <td>publicly traded</td>\n      <td>ABBV</td>\n      <td>pharmaceuticals</td>\n      <td>pharmaceuticals</td>\n      <td>https://www.justice.gov/opa/pr/pharmaceutical-...</td>\n      <td>None</td>\n    </tr>\n    <tr>\n      <th>3</th>\n      <td>Abbott Laboratories Puerto Rico, Inc.</td>\n      <td>Abbott Laboratories</td>\n      <td>$49,045</td>\n      <td>$0</td>\n      <td>$49,045</td>\n      <td>2009</td>\n      <td>20090305</td>\n      <td>employment-related offenses</td>\n      <td>wage and hour violation</td>\n      <td>Fair Labor Standards Act</td>\n      <td>...</td>\n      <td>423450.0</td>\n      <td>423450: Medical, Dental, and Hospital Equipmen...</td>\n      <td>USA</td>\n      <td>Illinois</td>\n      <td>publicly traded</td>\n      <td>ABT</td>\n      <td>pharmaceuticals</td>\n      <td>pharmaceuticals</td>\n      <td>March 7, 2017 download of a dataset posted by ...</td>\n      <td>Date and year are the Findings End Date in the...</td>\n    </tr>\n    <tr>\n      <th>4</th>\n      <td>Acclarent Inc.</td>\n      <td>Johnson &amp; Johnson</td>\n      <td>$18,000,000</td>\n      <td>$0</td>\n      <td>$18,000,000</td>\n      <td>2016</td>\n      <td>20160722</td>\n      <td>government-contracting-related offenses</td>\n      <td>False Claims Act and related</td>\n      <td>None</td>\n      <td>...</td>\n      <td>NaN</td>\n      <td>None</td>\n      <td>USA</td>\n      <td>New Jersey</td>\n      <td>publicly traded</td>\n      <td>JNJ</td>\n      <td>pharmaceuticals</td>\n      <td>pharmaceuticals</td>\n      <td>https://www.justice.gov/opa/pr/johnson-johnson...</td>\n      <td>None</td>\n    </tr>\n  </tbody>\n</table>\n<p>5 rows × 34 columns</p>\n</div>",
              "textData": null,
              "removedWidgets": [],
              "addedWidgets": {},
              "metadata": {},
              "type": "htmlSandbox",
              "arguments": {}
            }
          },
          "data": {
            "text/html": [
              "<div>\n",
              "<style scoped>\n",
              "    .dataframe tbody tr th:only-of-type {\n",
              "        vertical-align: middle;\n",
              "    }\n",
              "\n",
              "    .dataframe tbody tr th {\n",
              "        vertical-align: top;\n",
              "    }\n",
              "\n",
              "    .dataframe thead th {\n",
              "        text-align: right;\n",
              "    }\n",
              "</style>\n",
              "<table border=\"1\" class=\"dataframe\">\n",
              "  <thead>\n",
              "    <tr style=\"text-align: right;\">\n",
              "      <th></th>\n",
              "      <th>Company</th>\n",
              "      <th>Parent_Company</th>\n",
              "      <th>Penalty_Amount</th>\n",
              "      <th>Subtraction_From_Penalty</th>\n",
              "      <th>Penalty_Amount_Adjusted_For_Eliminating_Multiple_Counting</th>\n",
              "      <th>Penalty_Year</th>\n",
              "      <th>Penalty_Date</th>\n",
              "      <th>Offense_Group</th>\n",
              "      <th>Primary_Offense</th>\n",
              "      <th>Secondary_Offense</th>\n",
              "      <th>...</th>\n",
              "      <th>NAICS_Code</th>\n",
              "      <th>NAICS_Translation</th>\n",
              "      <th>HQ_Country_of_Parent</th>\n",
              "      <th>HQ_State_of_Parent</th>\n",
              "      <th>Ownership_Structure</th>\n",
              "      <th>Parent_Company_Stock_Ticker</th>\n",
              "      <th>Major_Industry_of_Parent</th>\n",
              "      <th>Specific_Industry_of_Parent</th>\n",
              "      <th>Info_Source</th>\n",
              "      <th>Notes</th>\n",
              "    </tr>\n",
              "  </thead>\n",
              "  <tbody>\n",
              "    <tr>\n",
              "      <th>0</th>\n",
              "      <td>Abbott Laboratories</td>\n",
              "      <td>Abbott Laboratories</td>\n",
              "      <td>$5,475,000</td>\n",
              "      <td>$0</td>\n",
              "      <td>$5,475,000</td>\n",
              "      <td>2013</td>\n",
              "      <td>20131227</td>\n",
              "      <td>government-contracting-related offenses</td>\n",
              "      <td>False Claims Act and related</td>\n",
              "      <td>kickbacks and bribery</td>\n",
              "      <td>...</td>\n",
              "      <td>NaN</td>\n",
              "      <td>None</td>\n",
              "      <td>USA</td>\n",
              "      <td>Illinois</td>\n",
              "      <td>publicly traded</td>\n",
              "      <td>ABT</td>\n",
              "      <td>pharmaceuticals</td>\n",
              "      <td>pharmaceuticals</td>\n",
              "      <td>https://www.justice.gov/opa/pr/abbott-laborato...</td>\n",
              "      <td>None</td>\n",
              "    </tr>\n",
              "    <tr>\n",
              "      <th>1</th>\n",
              "      <td>Abbott Laboratories Inc.</td>\n",
              "      <td>AbbVie</td>\n",
              "      <td>$1,500,000,000</td>\n",
              "      <td>$0</td>\n",
              "      <td>$1,500,000,000</td>\n",
              "      <td>2012</td>\n",
              "      <td>20120507</td>\n",
              "      <td>healthcare-related offenses</td>\n",
              "      <td>off-label or unapproved promotion of medical p...</td>\n",
              "      <td>None</td>\n",
              "      <td>...</td>\n",
              "      <td>NaN</td>\n",
              "      <td>None</td>\n",
              "      <td>USA</td>\n",
              "      <td>Illinois</td>\n",
              "      <td>publicly traded</td>\n",
              "      <td>ABBV</td>\n",
              "      <td>pharmaceuticals</td>\n",
              "      <td>pharmaceuticals</td>\n",
              "      <td>http://www.justice.gov/opa/pr/abbott-labs-pay-...</td>\n",
              "      <td>None</td>\n",
              "    </tr>\n",
              "    <tr>\n",
              "      <th>2</th>\n",
              "      <td>Abbott Laboratories Inc.</td>\n",
              "      <td>AbbVie</td>\n",
              "      <td>$126,500,000</td>\n",
              "      <td>$0</td>\n",
              "      <td>$126,500,000</td>\n",
              "      <td>2010</td>\n",
              "      <td>20101207</td>\n",
              "      <td>government-contracting-related offenses</td>\n",
              "      <td>False Claims Act and related</td>\n",
              "      <td>None</td>\n",
              "      <td>...</td>\n",
              "      <td>NaN</td>\n",
              "      <td>None</td>\n",
              "      <td>USA</td>\n",
              "      <td>Illinois</td>\n",
              "      <td>publicly traded</td>\n",
              "      <td>ABBV</td>\n",
              "      <td>pharmaceuticals</td>\n",
              "      <td>pharmaceuticals</td>\n",
              "      <td>https://www.justice.gov/opa/pr/pharmaceutical-...</td>\n",
              "      <td>None</td>\n",
              "    </tr>\n",
              "    <tr>\n",
              "      <th>3</th>\n",
              "      <td>Abbott Laboratories Puerto Rico, Inc.</td>\n",
              "      <td>Abbott Laboratories</td>\n",
              "      <td>$49,045</td>\n",
              "      <td>$0</td>\n",
              "      <td>$49,045</td>\n",
              "      <td>2009</td>\n",
              "      <td>20090305</td>\n",
              "      <td>employment-related offenses</td>\n",
              "      <td>wage and hour violation</td>\n",
              "      <td>Fair Labor Standards Act</td>\n",
              "      <td>...</td>\n",
              "      <td>423450.0</td>\n",
              "      <td>423450: Medical, Dental, and Hospital Equipmen...</td>\n",
              "      <td>USA</td>\n",
              "      <td>Illinois</td>\n",
              "      <td>publicly traded</td>\n",
              "      <td>ABT</td>\n",
              "      <td>pharmaceuticals</td>\n",
              "      <td>pharmaceuticals</td>\n",
              "      <td>March 7, 2017 download of a dataset posted by ...</td>\n",
              "      <td>Date and year are the Findings End Date in the...</td>\n",
              "    </tr>\n",
              "    <tr>\n",
              "      <th>4</th>\n",
              "      <td>Acclarent Inc.</td>\n",
              "      <td>Johnson &amp; Johnson</td>\n",
              "      <td>$18,000,000</td>\n",
              "      <td>$0</td>\n",
              "      <td>$18,000,000</td>\n",
              "      <td>2016</td>\n",
              "      <td>20160722</td>\n",
              "      <td>government-contracting-related offenses</td>\n",
              "      <td>False Claims Act and related</td>\n",
              "      <td>None</td>\n",
              "      <td>...</td>\n",
              "      <td>NaN</td>\n",
              "      <td>None</td>\n",
              "      <td>USA</td>\n",
              "      <td>New Jersey</td>\n",
              "      <td>publicly traded</td>\n",
              "      <td>JNJ</td>\n",
              "      <td>pharmaceuticals</td>\n",
              "      <td>pharmaceuticals</td>\n",
              "      <td>https://www.justice.gov/opa/pr/johnson-johnson...</td>\n",
              "      <td>None</td>\n",
              "    </tr>\n",
              "  </tbody>\n",
              "</table>\n",
              "<p>5 rows × 34 columns</p>\n",
              "</div>"
            ]
          }
        }
      ],
      "execution_count": null
    },
    {
      "cell_type": "code",
      "source": [
        "# combining both clinical trials and pharma dataframe to create a new dataframe then bringing out the sponsors column\n",
        "clinicaltrial_pharma_df = clinicaltrial_df.join(Pharma_df, clinicaltrial_df.Sponsor == Pharma_df.Parent_Company, \"left_anti\")\n",
        "\n",
        "clinicaltrial_pharma_df.toPandas().head(7)\n"
      ],
      "metadata": {
        "application/vnd.databricks.v1+cell": {
          "showTitle": false,
          "cellMetadata": {
            "rowLimit": 10000,
            "byteLimit": 2048000
          },
          "nuid": "c4a16c2e-d2e8-4652-a4c9-33973e2a358e",
          "inputWidgets": {},
          "title": ""
        },
        "id": "OtMg6wEgNGug",
        "outputId": "c80e2900-570f-4eae-bfe9-e6eb1db9c855"
      },
      "outputs": [
        {
          "output_type": "display_data",
          "metadata": {
            "application/vnd.databricks.v1+output": {
              "datasetInfos": [],
              "data": "<div>\n<style scoped>\n    .dataframe tbody tr th:only-of-type {\n        vertical-align: middle;\n    }\n\n    .dataframe tbody tr th {\n        vertical-align: top;\n    }\n\n    .dataframe thead th {\n        text-align: right;\n    }\n</style>\n<table border=\"1\" class=\"dataframe\">\n  <thead>\n    <tr style=\"text-align: right;\">\n      <th></th>\n      <th>Id</th>\n      <th>Sponsor</th>\n      <th>Status</th>\n      <th>Start</th>\n      <th>Completion</th>\n      <th>Type</th>\n      <th>Submission</th>\n      <th>Conditions</th>\n      <th>Interventions</th>\n    </tr>\n  </thead>\n  <tbody>\n    <tr>\n      <th>0</th>\n      <td>NCT02758028</td>\n      <td>The University of Hong Kong</td>\n      <td>Recruiting</td>\n      <td>Aug 2005</td>\n      <td>Nov 2021</td>\n      <td>Interventional</td>\n      <td>Apr 2016</td>\n      <td>None</td>\n      <td>None</td>\n    </tr>\n    <tr>\n      <th>1</th>\n      <td>NCT02751957</td>\n      <td>Duke University</td>\n      <td>Completed</td>\n      <td>Jul 2016</td>\n      <td>Jul 2020</td>\n      <td>Interventional</td>\n      <td>Apr 2016</td>\n      <td>Autistic Disorder,Autism Spectrum Disorder</td>\n      <td>None</td>\n    </tr>\n    <tr>\n      <th>2</th>\n      <td>NCT02758483</td>\n      <td>Universidade Federal do Rio de Janeiro</td>\n      <td>Completed</td>\n      <td>Mar 2017</td>\n      <td>Jan 2018</td>\n      <td>Interventional</td>\n      <td>Apr 2016</td>\n      <td>Diabetes Mellitus</td>\n      <td>None</td>\n    </tr>\n    <tr>\n      <th>3</th>\n      <td>NCT02759848</td>\n      <td>Istanbul Medeniyet University</td>\n      <td>Completed</td>\n      <td>Jan 2012</td>\n      <td>Dec 2014</td>\n      <td>Observational</td>\n      <td>May 2016</td>\n      <td>Tuberculosis,Lung Diseases,Pulmonary Disease</td>\n      <td>None</td>\n    </tr>\n    <tr>\n      <th>4</th>\n      <td>NCT02758860</td>\n      <td>University of Roma La Sapienza</td>\n      <td>Active, not recruiting</td>\n      <td>Jun 2016</td>\n      <td>Sep 2020</td>\n      <td>Observational [Patient Registry]</td>\n      <td>Apr 2016</td>\n      <td>Diverticular Diseases,Diverticulum,Diverticulosis</td>\n      <td>None</td>\n    </tr>\n    <tr>\n      <th>5</th>\n      <td>NCT02757209</td>\n      <td>Consorzio Futuro in Ricerca</td>\n      <td>Completed</td>\n      <td>Apr 2016</td>\n      <td>Jan 2018</td>\n      <td>Interventional</td>\n      <td>Apr 2016</td>\n      <td>Asthma</td>\n      <td>Fluticasone,Xhance,Budesonide,Formoterol Fumar...</td>\n    </tr>\n    <tr>\n      <th>6</th>\n      <td>NCT02752438</td>\n      <td>Ankara University</td>\n      <td>Unknown status</td>\n      <td>May 2016</td>\n      <td>Jul 2017</td>\n      <td>Observational [Patient Registry]</td>\n      <td>Apr 2016</td>\n      <td>Hypoventilation</td>\n      <td>None</td>\n    </tr>\n  </tbody>\n</table>\n</div>",
              "textData": null,
              "removedWidgets": [],
              "addedWidgets": {},
              "metadata": {},
              "type": "htmlSandbox",
              "arguments": {}
            }
          },
          "data": {
            "text/html": [
              "<div>\n",
              "<style scoped>\n",
              "    .dataframe tbody tr th:only-of-type {\n",
              "        vertical-align: middle;\n",
              "    }\n",
              "\n",
              "    .dataframe tbody tr th {\n",
              "        vertical-align: top;\n",
              "    }\n",
              "\n",
              "    .dataframe thead th {\n",
              "        text-align: right;\n",
              "    }\n",
              "</style>\n",
              "<table border=\"1\" class=\"dataframe\">\n",
              "  <thead>\n",
              "    <tr style=\"text-align: right;\">\n",
              "      <th></th>\n",
              "      <th>Id</th>\n",
              "      <th>Sponsor</th>\n",
              "      <th>Status</th>\n",
              "      <th>Start</th>\n",
              "      <th>Completion</th>\n",
              "      <th>Type</th>\n",
              "      <th>Submission</th>\n",
              "      <th>Conditions</th>\n",
              "      <th>Interventions</th>\n",
              "    </tr>\n",
              "  </thead>\n",
              "  <tbody>\n",
              "    <tr>\n",
              "      <th>0</th>\n",
              "      <td>NCT02758028</td>\n",
              "      <td>The University of Hong Kong</td>\n",
              "      <td>Recruiting</td>\n",
              "      <td>Aug 2005</td>\n",
              "      <td>Nov 2021</td>\n",
              "      <td>Interventional</td>\n",
              "      <td>Apr 2016</td>\n",
              "      <td>None</td>\n",
              "      <td>None</td>\n",
              "    </tr>\n",
              "    <tr>\n",
              "      <th>1</th>\n",
              "      <td>NCT02751957</td>\n",
              "      <td>Duke University</td>\n",
              "      <td>Completed</td>\n",
              "      <td>Jul 2016</td>\n",
              "      <td>Jul 2020</td>\n",
              "      <td>Interventional</td>\n",
              "      <td>Apr 2016</td>\n",
              "      <td>Autistic Disorder,Autism Spectrum Disorder</td>\n",
              "      <td>None</td>\n",
              "    </tr>\n",
              "    <tr>\n",
              "      <th>2</th>\n",
              "      <td>NCT02758483</td>\n",
              "      <td>Universidade Federal do Rio de Janeiro</td>\n",
              "      <td>Completed</td>\n",
              "      <td>Mar 2017</td>\n",
              "      <td>Jan 2018</td>\n",
              "      <td>Interventional</td>\n",
              "      <td>Apr 2016</td>\n",
              "      <td>Diabetes Mellitus</td>\n",
              "      <td>None</td>\n",
              "    </tr>\n",
              "    <tr>\n",
              "      <th>3</th>\n",
              "      <td>NCT02759848</td>\n",
              "      <td>Istanbul Medeniyet University</td>\n",
              "      <td>Completed</td>\n",
              "      <td>Jan 2012</td>\n",
              "      <td>Dec 2014</td>\n",
              "      <td>Observational</td>\n",
              "      <td>May 2016</td>\n",
              "      <td>Tuberculosis,Lung Diseases,Pulmonary Disease</td>\n",
              "      <td>None</td>\n",
              "    </tr>\n",
              "    <tr>\n",
              "      <th>4</th>\n",
              "      <td>NCT02758860</td>\n",
              "      <td>University of Roma La Sapienza</td>\n",
              "      <td>Active, not recruiting</td>\n",
              "      <td>Jun 2016</td>\n",
              "      <td>Sep 2020</td>\n",
              "      <td>Observational [Patient Registry]</td>\n",
              "      <td>Apr 2016</td>\n",
              "      <td>Diverticular Diseases,Diverticulum,Diverticulosis</td>\n",
              "      <td>None</td>\n",
              "    </tr>\n",
              "    <tr>\n",
              "      <th>5</th>\n",
              "      <td>NCT02757209</td>\n",
              "      <td>Consorzio Futuro in Ricerca</td>\n",
              "      <td>Completed</td>\n",
              "      <td>Apr 2016</td>\n",
              "      <td>Jan 2018</td>\n",
              "      <td>Interventional</td>\n",
              "      <td>Apr 2016</td>\n",
              "      <td>Asthma</td>\n",
              "      <td>Fluticasone,Xhance,Budesonide,Formoterol Fumar...</td>\n",
              "    </tr>\n",
              "    <tr>\n",
              "      <th>6</th>\n",
              "      <td>NCT02752438</td>\n",
              "      <td>Ankara University</td>\n",
              "      <td>Unknown status</td>\n",
              "      <td>May 2016</td>\n",
              "      <td>Jul 2017</td>\n",
              "      <td>Observational [Patient Registry]</td>\n",
              "      <td>Apr 2016</td>\n",
              "      <td>Hypoventilation</td>\n",
              "      <td>None</td>\n",
              "    </tr>\n",
              "  </tbody>\n",
              "</table>\n",
              "</div>"
            ]
          }
        }
      ],
      "execution_count": null
    },
    {
      "cell_type": "markdown",
      "source": [
        "<h5> Question 4:\n",
        "  \n",
        "Top 10 sponsors that are not pharmaceutical company <h5/>"
      ],
      "metadata": {
        "application/vnd.databricks.v1+cell": {
          "showTitle": false,
          "cellMetadata": {
            "rowLimit": 10000,
            "byteLimit": 2048000
          },
          "nuid": "c49f2639-662d-40d9-9833-6efd551dcbab",
          "inputWidgets": {},
          "title": ""
        },
        "id": "rlx6s0OMNGuh"
      }
    },
    {
      "cell_type": "code",
      "source": [
        "#importing the necessary library and grouping by sponsor\n",
        "\n",
        "from pyspark.sql.functions import split, explode, count, desc\n",
        "\n",
        "top10_sponsor = clinicaltrial_pharma_df.groupBy('Sponsor').count().orderBy(desc('count'))\n",
        "\n",
        "# show the top 5 conditions\n",
        "top10_sponsor.limit(10).toPandas()"
      ],
      "metadata": {
        "application/vnd.databricks.v1+cell": {
          "showTitle": false,
          "cellMetadata": {
            "rowLimit": 10000,
            "byteLimit": 2048000
          },
          "nuid": "f6d9312a-05af-4fd3-aae7-7dc64d139d70",
          "inputWidgets": {},
          "title": ""
        },
        "id": "IS8UDmm1NGuh",
        "outputId": "694d29fb-fd8f-4e5e-ea46-28ecde3c342d"
      },
      "outputs": [
        {
          "output_type": "display_data",
          "metadata": {
            "application/vnd.databricks.v1+output": {
              "datasetInfos": [],
              "data": "<div>\n<style scoped>\n    .dataframe tbody tr th:only-of-type {\n        vertical-align: middle;\n    }\n\n    .dataframe tbody tr th {\n        vertical-align: top;\n    }\n\n    .dataframe thead th {\n        text-align: right;\n    }\n</style>\n<table border=\"1\" class=\"dataframe\">\n  <thead>\n    <tr style=\"text-align: right;\">\n      <th></th>\n      <th>Sponsor</th>\n      <th>count</th>\n    </tr>\n  </thead>\n  <tbody>\n    <tr>\n      <th>0</th>\n      <td>National Cancer Institute (NCI)</td>\n      <td>3218</td>\n    </tr>\n    <tr>\n      <th>1</th>\n      <td>M.D. Anderson Cancer Center</td>\n      <td>2414</td>\n    </tr>\n    <tr>\n      <th>2</th>\n      <td>Assistance Publique - Hôpitaux de Paris</td>\n      <td>2369</td>\n    </tr>\n    <tr>\n      <th>3</th>\n      <td>Mayo Clinic</td>\n      <td>2300</td>\n    </tr>\n    <tr>\n      <th>4</th>\n      <td>Merck Sharp &amp; Dohme Corp.</td>\n      <td>2243</td>\n    </tr>\n    <tr>\n      <th>5</th>\n      <td>Assiut University</td>\n      <td>2154</td>\n    </tr>\n    <tr>\n      <th>6</th>\n      <td>Novartis Pharmaceuticals</td>\n      <td>2088</td>\n    </tr>\n    <tr>\n      <th>7</th>\n      <td>Massachusetts General Hospital</td>\n      <td>1971</td>\n    </tr>\n    <tr>\n      <th>8</th>\n      <td>Cairo University</td>\n      <td>1928</td>\n    </tr>\n    <tr>\n      <th>9</th>\n      <td>Hoffmann-La Roche</td>\n      <td>1828</td>\n    </tr>\n  </tbody>\n</table>\n</div>",
              "textData": null,
              "removedWidgets": [],
              "addedWidgets": {},
              "metadata": {},
              "type": "htmlSandbox",
              "arguments": {}
            }
          },
          "data": {
            "text/html": [
              "<div>\n",
              "<style scoped>\n",
              "    .dataframe tbody tr th:only-of-type {\n",
              "        vertical-align: middle;\n",
              "    }\n",
              "\n",
              "    .dataframe tbody tr th {\n",
              "        vertical-align: top;\n",
              "    }\n",
              "\n",
              "    .dataframe thead th {\n",
              "        text-align: right;\n",
              "    }\n",
              "</style>\n",
              "<table border=\"1\" class=\"dataframe\">\n",
              "  <thead>\n",
              "    <tr style=\"text-align: right;\">\n",
              "      <th></th>\n",
              "      <th>Sponsor</th>\n",
              "      <th>count</th>\n",
              "    </tr>\n",
              "  </thead>\n",
              "  <tbody>\n",
              "    <tr>\n",
              "      <th>0</th>\n",
              "      <td>National Cancer Institute (NCI)</td>\n",
              "      <td>3218</td>\n",
              "    </tr>\n",
              "    <tr>\n",
              "      <th>1</th>\n",
              "      <td>M.D. Anderson Cancer Center</td>\n",
              "      <td>2414</td>\n",
              "    </tr>\n",
              "    <tr>\n",
              "      <th>2</th>\n",
              "      <td>Assistance Publique - Hôpitaux de Paris</td>\n",
              "      <td>2369</td>\n",
              "    </tr>\n",
              "    <tr>\n",
              "      <th>3</th>\n",
              "      <td>Mayo Clinic</td>\n",
              "      <td>2300</td>\n",
              "    </tr>\n",
              "    <tr>\n",
              "      <th>4</th>\n",
              "      <td>Merck Sharp &amp; Dohme Corp.</td>\n",
              "      <td>2243</td>\n",
              "    </tr>\n",
              "    <tr>\n",
              "      <th>5</th>\n",
              "      <td>Assiut University</td>\n",
              "      <td>2154</td>\n",
              "    </tr>\n",
              "    <tr>\n",
              "      <th>6</th>\n",
              "      <td>Novartis Pharmaceuticals</td>\n",
              "      <td>2088</td>\n",
              "    </tr>\n",
              "    <tr>\n",
              "      <th>7</th>\n",
              "      <td>Massachusetts General Hospital</td>\n",
              "      <td>1971</td>\n",
              "    </tr>\n",
              "    <tr>\n",
              "      <th>8</th>\n",
              "      <td>Cairo University</td>\n",
              "      <td>1928</td>\n",
              "    </tr>\n",
              "    <tr>\n",
              "      <th>9</th>\n",
              "      <td>Hoffmann-La Roche</td>\n",
              "      <td>1828</td>\n",
              "    </tr>\n",
              "  </tbody>\n",
              "</table>\n",
              "</div>"
            ]
          }
        }
      ],
      "execution_count": null
    },
    {
      "cell_type": "markdown",
      "source": [
        "<h5> Question 5:  Number of Completed Studies Each Month in a given year <h/5>"
      ],
      "metadata": {
        "application/vnd.databricks.v1+cell": {
          "showTitle": false,
          "cellMetadata": {
            "rowLimit": 10000,
            "byteLimit": 2048000
          },
          "nuid": "884b0534-19ce-4f63-8d12-8abf0d011a6a",
          "inputWidgets": {},
          "title": ""
        },
        "id": "rn2gv8f9NGui"
      }
    },
    {
      "cell_type": "code",
      "source": [
        "from pyspark.sql.functions import col, to_date, date_format\n",
        "\n",
        "completed_studies = clinicaltrial_df.select('Status', 'Completion')\\\n",
        "    .filter(col('Status') == \"Completed\")\\\n",
        "    .filter(col('Completion').contains(year))\n",
        "\n",
        "#Convert Completion column to date format\n",
        "\n",
        "completed_studies = completed_studies.withColumn(\"Completion\", to_date(completed_studies[\"Completion\"], \"MMM yyyy\"))\n",
        "\n",
        "completed_studies = completed_studies.groupBy(col('Completion')).count().sort('Completion')\n",
        "\n",
        "completed_studies = completed_studies.withColumn(\"Completion\", date_format(completed_studies[\"Completion\"], \"MMM yyyy\"))\n",
        "\n",
        "completed_studies.toPandas()"
      ],
      "metadata": {
        "application/vnd.databricks.v1+cell": {
          "showTitle": false,
          "cellMetadata": {
            "rowLimit": 10000,
            "byteLimit": 2048000
          },
          "nuid": "ddd13801-5310-448e-b04c-dc72b8dd85da",
          "inputWidgets": {},
          "title": ""
        },
        "id": "WEaQ-WxtNGui",
        "outputId": "7300f70c-bd82-42b3-97a7-cac62cb0a0be"
      },
      "outputs": [
        {
          "output_type": "display_data",
          "metadata": {
            "application/vnd.databricks.v1+output": {
              "datasetInfos": [],
              "data": "<div>\n<style scoped>\n    .dataframe tbody tr th:only-of-type {\n        vertical-align: middle;\n    }\n\n    .dataframe tbody tr th {\n        vertical-align: top;\n    }\n\n    .dataframe thead th {\n        text-align: right;\n    }\n</style>\n<table border=\"1\" class=\"dataframe\">\n  <thead>\n    <tr style=\"text-align: right;\">\n      <th></th>\n      <th>Completion</th>\n      <th>count</th>\n    </tr>\n  </thead>\n  <tbody>\n    <tr>\n      <th>0</th>\n      <td>Jan 2021</td>\n      <td>1131</td>\n    </tr>\n    <tr>\n      <th>1</th>\n      <td>Feb 2021</td>\n      <td>934</td>\n    </tr>\n    <tr>\n      <th>2</th>\n      <td>Mar 2021</td>\n      <td>1227</td>\n    </tr>\n    <tr>\n      <th>3</th>\n      <td>Apr 2021</td>\n      <td>967</td>\n    </tr>\n    <tr>\n      <th>4</th>\n      <td>May 2021</td>\n      <td>984</td>\n    </tr>\n    <tr>\n      <th>5</th>\n      <td>Jun 2021</td>\n      <td>1094</td>\n    </tr>\n    <tr>\n      <th>6</th>\n      <td>Jul 2021</td>\n      <td>819</td>\n    </tr>\n    <tr>\n      <th>7</th>\n      <td>Aug 2021</td>\n      <td>700</td>\n    </tr>\n    <tr>\n      <th>8</th>\n      <td>Sep 2021</td>\n      <td>528</td>\n    </tr>\n    <tr>\n      <th>9</th>\n      <td>Oct 2021</td>\n      <td>187</td>\n    </tr>\n  </tbody>\n</table>\n</div>",
              "textData": null,
              "removedWidgets": [],
              "addedWidgets": {},
              "metadata": {},
              "type": "htmlSandbox",
              "arguments": {}
            }
          },
          "data": {
            "text/html": [
              "<div>\n",
              "<style scoped>\n",
              "    .dataframe tbody tr th:only-of-type {\n",
              "        vertical-align: middle;\n",
              "    }\n",
              "\n",
              "    .dataframe tbody tr th {\n",
              "        vertical-align: top;\n",
              "    }\n",
              "\n",
              "    .dataframe thead th {\n",
              "        text-align: right;\n",
              "    }\n",
              "</style>\n",
              "<table border=\"1\" class=\"dataframe\">\n",
              "  <thead>\n",
              "    <tr style=\"text-align: right;\">\n",
              "      <th></th>\n",
              "      <th>Completion</th>\n",
              "      <th>count</th>\n",
              "    </tr>\n",
              "  </thead>\n",
              "  <tbody>\n",
              "    <tr>\n",
              "      <th>0</th>\n",
              "      <td>Jan 2021</td>\n",
              "      <td>1131</td>\n",
              "    </tr>\n",
              "    <tr>\n",
              "      <th>1</th>\n",
              "      <td>Feb 2021</td>\n",
              "      <td>934</td>\n",
              "    </tr>\n",
              "    <tr>\n",
              "      <th>2</th>\n",
              "      <td>Mar 2021</td>\n",
              "      <td>1227</td>\n",
              "    </tr>\n",
              "    <tr>\n",
              "      <th>3</th>\n",
              "      <td>Apr 2021</td>\n",
              "      <td>967</td>\n",
              "    </tr>\n",
              "    <tr>\n",
              "      <th>4</th>\n",
              "      <td>May 2021</td>\n",
              "      <td>984</td>\n",
              "    </tr>\n",
              "    <tr>\n",
              "      <th>5</th>\n",
              "      <td>Jun 2021</td>\n",
              "      <td>1094</td>\n",
              "    </tr>\n",
              "    <tr>\n",
              "      <th>6</th>\n",
              "      <td>Jul 2021</td>\n",
              "      <td>819</td>\n",
              "    </tr>\n",
              "    <tr>\n",
              "      <th>7</th>\n",
              "      <td>Aug 2021</td>\n",
              "      <td>700</td>\n",
              "    </tr>\n",
              "    <tr>\n",
              "      <th>8</th>\n",
              "      <td>Sep 2021</td>\n",
              "      <td>528</td>\n",
              "    </tr>\n",
              "    <tr>\n",
              "      <th>9</th>\n",
              "      <td>Oct 2021</td>\n",
              "      <td>187</td>\n",
              "    </tr>\n",
              "  </tbody>\n",
              "</table>\n",
              "</div>"
            ]
          }
        }
      ],
      "execution_count": null
    },
    {
      "cell_type": "markdown",
      "source": [
        "<h5> further analysis <h/5>"
      ],
      "metadata": {
        "application/vnd.databricks.v1+cell": {
          "showTitle": false,
          "cellMetadata": {
            "rowLimit": 10000,
            "byteLimit": 2048000
          },
          "nuid": "e49a2f62-2e3b-4973-abca-20d618a0fe8b",
          "inputWidgets": {},
          "title": ""
        },
        "id": "s1XUJ27RNGuj"
      }
    },
    {
      "cell_type": "markdown",
      "source": [
        "<h5>  Find the number of pharmaceutical companies in each country, and the country with the highest number of companies <h/5>"
      ],
      "metadata": {
        "application/vnd.databricks.v1+cell": {
          "showTitle": false,
          "cellMetadata": {
            "rowLimit": 10000,
            "byteLimit": 2048000
          },
          "nuid": "f3117343-c006-4b10-8b58-fd0767e17725",
          "inputWidgets": {},
          "title": ""
        },
        "id": "GtgpR9ZQNGuj"
      }
    },
    {
      "cell_type": "code",
      "source": [
        "from pyspark.sql.functions import desc\n",
        "\n",
        "# Checking for missing number in HQ_Country_of_Parent column Data cleaning on the HQ_country_of_parent column by checking missing number\n",
        "Pharma_df.filter(Pharma_df.HQ_Country_of_Parent.isNull()).count()\n",
        "\n",
        "# Drop missing number in HQ_Country_of_Parent column\n",
        "Pharma_df_na = Pharma_df.dropna(subset=['HQ_Country_of_Parent'])\n",
        "\n",
        "PharmaCom_in_countries = Pharma_df_na.groupBy(\"HQ_Country_of_Parent\").agg(count(\"*\").alias(\"No_of_Companies\"))\n",
        "PharmaCom_in_countries = PharmaCom_in_countries.orderBy(desc(\"No_of_Companies\"))\n",
        "PharmaCom_in_countries.show()\n"
      ],
      "metadata": {
        "application/vnd.databricks.v1+cell": {
          "showTitle": false,
          "cellMetadata": {
            "rowLimit": 10000,
            "byteLimit": 2048000
          },
          "nuid": "ec3c0227-d44a-433a-b4a0-6f66823cb606",
          "inputWidgets": {},
          "title": ""
        },
        "id": "v9sXAI9PNGuj",
        "outputId": "74e5e055-02a7-4df6-b21b-fd1575691835"
      },
      "outputs": [
        {
          "output_type": "stream",
          "name": "stdout",
          "text": [
            "+--------------------+---------------+\n|HQ_Country_of_Parent|No_of_Companies|\n+--------------------+---------------+\n|                 USA|            532|\n|      United Kingdom|             69|\n|             Ireland|             59|\n|         Switzerland|             59|\n|              Israel|             56|\n|               Japan|             52|\n|             Germany|             51|\n|              France|             28|\n|              Canada|             22|\n|             Denmark|             14|\n|               India|             12|\n|             Belgium|              8|\n|           Australia|              3|\n+--------------------+---------------+\n\n"
          ]
        }
      ],
      "execution_count": null
    },
    {
      "cell_type": "code",
      "source": [
        "\n",
        "# Import necessary libraries for plotting\n",
        "import matplotlib.pyplot as plt\n",
        "import pandas as pd\n",
        "\n",
        "# Convert result to Pandas DataFrame for plotting\n",
        "Pharcom_Pandas = PharmaCom_in_countries.toPandas()\n",
        "\n",
        "# Plot the result\n",
        "Pharcom_Pandas.plot(kind='bar', x='HQ_Country_of_Parent', y='No_of_Companies', figsize=(10,6))\n",
        "plt.title('Number of Companies per countries and their frequencies')\n",
        "plt.xlabel('Country')\n",
        "plt.ylabel('Count of the Number of Companies')\n",
        "plt.show()"
      ],
      "metadata": {
        "application/vnd.databricks.v1+cell": {
          "showTitle": false,
          "cellMetadata": {
            "rowLimit": 10000,
            "byteLimit": 2048000
          },
          "nuid": "df85a005-b38c-4a75-9ed6-db9cae8dc42d",
          "inputWidgets": {},
          "title": ""
        },
        "id": "sMVb6AasNGuk",
        "outputId": "2911ed5f-165a-41ed-e987-90ef67eda616"
      },
      "outputs": [
        {
          "output_type": "display_data",
          "metadata": {
            "application/vnd.databricks.v1+output": {
              "datasetInfos": [],
              "data": "data:image/png;base64,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\n",
              "removedWidgets": [],
              "addedWidgets": {},
              "metadata": {},
              "type": "image",
              "arguments": {}
            }
          },
          "data": {
            "image/png": "[encoded data removed]"
          }
        }
      ],
      "execution_count": null
    },
    {
      "cell_type": "code",
      "source": [],
      "metadata": {
        "application/vnd.databricks.v1+cell": {
          "showTitle": false,
          "cellMetadata": {
            "rowLimit": 10000,
            "byteLimit": 2048000
          },
          "nuid": "7f340a3e-1a6a-431b-9ec2-a91cf3451b74",
          "inputWidgets": {},
          "title": ""
        },
        "id": "biZdjwTJNGuk"
      },
      "outputs": [],
      "execution_count": null
    }
  ],
  "metadata": {
    "application/vnd.databricks.v1+notebook": {
      "notebookName": "Apache DataFrame",
      "dashboards": [],
      "notebookMetadata": {
        "pythonIndentUnit": 4,
        "mostRecentlyExecutedCommandWithImplicitDF": {
          "commandId": 301753350241485,
          "dataframes": [
            "_sqldf"
          ]
        }
      },
      "language": "python",
      "widgets": {}
    },
    "colab": {
      "provenance": [],
      "include_colab_link": true
    }
  },
  "nbformat": 4,
  "nbformat_minor": 0
}